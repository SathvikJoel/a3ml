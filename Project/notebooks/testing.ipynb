{
 "cells": [
  {
   "cell_type": "code",
   "execution_count": 1,
   "metadata": {},
   "outputs": [],
   "source": [
    "import pandas as pd\n",
    "from sklearn import preprocessing\n",
    "from sklearn import metrics\n",
    "from sklearn import linear_model"
   ]
  },
  {
   "cell_type": "code",
   "execution_count": 2,
   "metadata": {},
   "outputs": [
    {
     "name": "stderr",
     "output_type": "stream",
     "text": [
      "c:\\Users\\ksjoe\\.conda\\envs\\ml\\lib\\site-packages\\sklearn\\linear_model\\_logistic.py:818: ConvergenceWarning: lbfgs failed to converge (status=1):\n",
      "STOP: TOTAL NO. of ITERATIONS REACHED LIMIT.\n",
      "\n",
      "Increase the number of iterations (max_iter) or scale the data as shown in:\n",
      "    https://scikit-learn.org/stable/modules/preprocessing.html\n",
      "Please also refer to the documentation for alternative solver options:\n",
      "    https://scikit-learn.org/stable/modules/linear_model.html#logistic-regression\n",
      "  extra_warning_msg=_LOGISTIC_SOLVER_CONVERGENCE_MSG,\n"
     ]
    },
    {
     "data": {
      "text/plain": [
       "LogisticRegression()"
      ]
     },
     "execution_count": 2,
     "metadata": {},
     "output_type": "execute_result"
    }
   ],
   "source": [
    "fold= 4\n",
    "df = pd.read_csv(\"../input/cat-to-dat/train_folds.csv\")\n",
    "\n",
    "features = [ f for f in df.columns if f not in (\"id\", \"Kfold\", \"target\")]\n",
    "\n",
    "for col in features:\n",
    "    df.loc[:, col] = df[col].astype(str).fillna(\"NONE\")\n",
    "\n",
    "df_train = df[df.Kfold != fold].reset_index(drop = True)\n",
    "\n",
    "df_valid = df[df.Kfold == fold].reset_index(drop = True)\n",
    "\n",
    "ohe = preprocessing.OneHotEncoder()\n",
    "\n",
    "full_data = pd.concat([df_train[features], df_valid[features]], axis = 0)\n",
    "\n",
    "ohe.fit(full_data[features])\n",
    "\n",
    "x_train = ohe.transform(df_train[features])\n",
    "\n",
    "x_valid = ohe.transform(df_valid[features])\n",
    "\n",
    "model = linear_model.LogisticRegression()\n",
    "\n",
    "model.fit(x_train, df_train.target.values)"
   ]
  },
  {
   "cell_type": "code",
   "execution_count": 3,
   "metadata": {},
   "outputs": [],
   "source": [
    "valid_preds = model.predict_proba(x_valid)"
   ]
  },
  {
   "cell_type": "code",
   "execution_count": 5,
   "metadata": {},
   "outputs": [
    {
     "data": {
      "text/plain": [
       "array([0.14006503, 0.05177795, 0.00839556, ..., 0.11189713, 0.16529895,\n",
       "       0.09980665])"
      ]
     },
     "execution_count": 5,
     "metadata": {},
     "output_type": "execute_result"
    }
   ],
   "source": [
    "valid_preds[:, 1]"
   ]
  },
  {
   "cell_type": "code",
   "execution_count": null,
   "metadata": {},
   "outputs": [],
   "source": []
  }
 ],
 "metadata": {
  "kernelspec": {
   "display_name": "Python 3.7.6 ('ml')",
   "language": "python",
   "name": "python3"
  },
  "language_info": {
   "codemirror_mode": {
    "name": "ipython",
    "version": 3
   },
   "file_extension": ".py",
   "mimetype": "text/x-python",
   "name": "python",
   "nbconvert_exporter": "python",
   "pygments_lexer": "ipython3",
   "version": "3.7.6"
  },
  "orig_nbformat": 4,
  "vscode": {
   "interpreter": {
    "hash": "eee8d8ef6ba5402eab9c7558cdea499712c651083627941597279b225763832f"
   }
  }
 },
 "nbformat": 4,
 "nbformat_minor": 2
}
